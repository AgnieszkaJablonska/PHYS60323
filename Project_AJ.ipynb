{
 "cells": [
  {
   "cell_type": "markdown",
   "id": "0a2c63a5-73e3-4225-95d9-22dde952d6eb",
   "metadata": {},
   "source": [
    "HYS 60323 PROJECT – F24 Due Mon. Dec. 9 (1:30pm)\n",
    "Project: Shielding a nuclear reactor. (AJ)\n",
    "A beam of neutrons bombards a reactor’s wall. Considering motion of\n",
    "neutrons as a random walk on (x,y) plane find probabilities for neutrons\n",
    "(as a function of the shield size, D):\n",
    "1. to be back in the reactor\n",
    "2. to be ‘captured’ in the shield\n",
    "3. to get through the shield.\n",
    "\n",
    "   \n",
    "First Trial Conditions:\n",
    "1. The initial conditions, the first step is forward 3 steps into the shield\n",
    "(x0 = 0; x1 = 3)\n",
    "2. The future steps, the neutron cannot step back, only forward, up, or\n",
    "down, relative to its current motion. (ignore left or right for this\n",
    "problem.)\n",
    "3. The probability to go “forward” (not scattered) is two times more than\n",
    "changing a direction (being scattered).\n",
    "4. On each forward (non-scattered) move the neutron loses one unit of\n",
    "energy.\n",
    "4. On each scatter (up or down), the neutron loses either 2.0 (60%),\n",
    "4.0 (35%), or 10.0 (5%) units of energy.\n",
    "5. Initial neutron energy is enough for 1500 units.\n",
    "6. Initial neutron velocity is perpendicular to the shield (e.g., forward).\n",
    "Assume that the probability P to get through the shield has the asymptotic\n",
    "exponential dependence as P ∼ e−alphaD where D is the size of the shield in\n",
    "units of x. e.g., a shield of size D = 15 would run from x = 0-15, and\n",
    "“infinite” in y. (see figure below)\n",
    "Use a ‘particle’ class with methods in your code to track the particles in\n",
    "code. (NOTE: These Monte Carlo runs will take time to build your statistics.)\n",
    "Determine the exponent  by fitting the exponential to the resulting data.\n",
    "(NOTE: measure the shield’s size in ”steps”, where one step corresponds to\n",
    "an average distance that neutrons move between collisions. Also, make sure\n",
    "you conduct enough tests at each D to get a good measurement of  and its\n",
    "uncertainty)\n",
    "\n",
    "\n",
    "Second Trial Conditions:\n",
    "Consider initial neutron energy as a normal (Gaussian) distribution with a\n",
    "mean value of 750 steps, and a standard deviation of 75 steps, how does\n",
    "this effect your value for  and its uncertainty?\n",
    "For full credit: Email me a report (written in LaTeX) including all required\n",
    "outputs and plots, and a user-friendly, working, self-contained Jupyter\n",
    "notebook."
   ]
  },
  {
   "cell_type": "markdown",
   "id": "c4cafd7f-2943-4361-8573-a6c94f4bfbea",
   "metadata": {},
   "source": [
    "# Importing Libraries I'm using"
   ]
  },
  {
   "cell_type": "code",
   "execution_count": 1,
   "id": "4d07f32f-0d98-462f-825b-edf0fe057f80",
   "metadata": {},
   "outputs": [],
   "source": [
    "import numpy as np\n",
    "import matplotlib.pyplot as plt\n",
    "import numpy.random as rand\n",
    "import scipy.optimize as opt"
   ]
  },
  {
   "cell_type": "markdown",
   "id": "b3d9d837-5ed8-4db2-afd9-2d4f744a39f3",
   "metadata": {},
   "source": [
    "# First Trial Conditions"
   ]
  },
  {
   "cell_type": "markdown",
   "id": "1866d07c-80c0-4d3b-b961-cb1f34af7763",
   "metadata": {},
   "source": [
    "# Making all constants I'm using"
   ]
  },
  {
   "cell_type": "code",
   "execution_count": 3,
   "id": "bbb561e1-652a-4f80-80ca-535cf522ddd5",
   "metadata": {},
   "outputs": [],
   "source": [
    "# Initial position of neutron\n",
    "x0 = 0\n",
    "# Position of neutron after first step (The first step is forward 3 steps into the shield)\n",
    "x1 = 3\n",
    "# The probability to go forward (not scattered) is two times more the changing a direction (being scattered)\n",
    "#2 * x + x = 1 #Solve for x\n",
    "#x = 1/3\n",
    "Probability_Being_Scattered = 1/3\n",
    "Probability_Not_Scattered = 2*Probability_Being_Scattered\n",
    "# Initial neutron energy is enough for 1500 units\n",
    "E_initial = 1500\n",
    "# make sure each test at each D number of neutron at each shield. The larger the number, the better measurement of alpha (more precise)\n",
    "Number_Of_Neutrons = 1000\n",
    "# This is a numerical representation of the direction that the neutron is facing\n",
    "Direction = 0 \n",
    "\n"
   ]
  },
  {
   "cell_type": "markdown",
   "id": "8b07e55c-772b-412b-a95f-f9faa5685ceb",
   "metadata": {},
   "source": [
    "# Defining needed functions"
   ]
  },
  {
   "cell_type": "code",
   "execution_count": 5,
   "id": "798e92b2-6a94-4cb4-b752-5a8fca2fa941",
   "metadata": {},
   "outputs": [],
   "source": [
    "# Defining exponential function that will be fitted to test data\n",
    "def exponential (x,alpha): \n",
    "    return np.exp(x*alpha)\n",
    "\n",
    "# Defining function which  will find and optimize parameters for the best value of alpha\n",
    "# Monte Carlo-version of 1 parameter Curve Fit for exponential function that can use BOTH x and Y errors\n",
    "def mcFit1(func, x, y, x_err=0.1, y_err=0.1, p0=[1]):\n",
    "    paramA = list()\n",
    "    iters = 500 \n",
    "    for i in range(iters):\n",
    "        # remember random normal distribution (Gaussian)\n",
    "        weightsx = np.random.randn(len(y))\n",
    "        weightsy = np.random.randn(len(y))\n",
    "        y_adj = y + y_err*weightsy\n",
    "        x_adj = x + x_err*weightsx \n",
    "        popt, pcov = opt.curve_fit(func, x_adj, y_adj, p0=p0, maxfev=10000, bounds=(-10,10)) # maxfev is the number of tries to fit the function properly, the bigger the better. Bounds set for small number so the program can run faster.\n",
    "        paramA.append(popt[0])\n",
    "    return (np.median(paramA))"
   ]
  },
  {
   "cell_type": "markdown",
   "id": "06fe8fef-e355-48a7-a32c-df67e7d20264",
   "metadata": {},
   "source": [
    "# Defining neutron, function that describes energy loss and motion function"
   ]
  },
  {
   "cell_type": "code",
   "execution_count": 7,
   "id": "f9d8e37f-ad29-42bb-9dbe-442f3e2f6f86",
   "metadata": {},
   "outputs": [],
   "source": [
    "# Making a class thats an objest (Neutron)\n",
    "class Neutron(object):\n",
    "    def __init__(self,x,y,E,Direction): # Defining all parameters describing neutron\n",
    "        self.x = x #Position of neutron in x-direction\n",
    "        self.y = y #Position of neutron in y-direction\n",
    "        self.E = E #The energy of neutron\n",
    "        self.Direction = Direction #The direction that the neutron is facing\n",
    "\n",
    "# Function that describes energy loss of neutron:\n",
    "#On each scatter (up or down), the neutron loses either 2.0 (60%), 4.0 (35%), or 10.0 (5%) units of energy.\n",
    "\n",
    "    def E_loss(self):\n",
    "        rand_E_loss = rand.random() #Getting some random number from 0 to 1 (probability)\n",
    "        if 0 < rand_E_loss <= 0.6: # 60% f numbers that I generate will be less then 0.60\n",
    "            self.E = self.E - 2\n",
    "        elif 0.6 < rand_E_loss <= 0.95: # 35% of numbers that I generate will be in range from 0.95 to 0.6\n",
    "            self.E = self.E - 4\n",
    "        else:\n",
    "            self.E = self.E - 10 # 5% of numbers will be in range from 1 to 0.95\n",
    "    \n",
    "    # Function that describes motion of neutron: (number of steps)\n",
    "    \n",
    "    def scatter(self):\n",
    "        rand_scatter = rand.random() # Selects if the neutron is scattered or not # random number that determines the probability of the neutron motion  \n",
    "        rand_up_or_down = rand.random() # If the neutron was scattered, was it scattered up or down? # random number which will determine will the neutron turn up or down while scattering \n",
    "        if rand_scatter <= Probability_Being_Scattered: # If the neutron was scattered# If the generated number was smaller or equal the probability of being scattered \n",
    "            self.E_loss() #run function to calculate energy loss\n",
    "            if rand_up_or_down <= 0.5: #checking direction of scattering (up or down). 50% of time while running this function I will get number smaller or equal 0.5\n",
    "                self.Direction = self.Direction - 1 # Neutron is scattered down\n",
    "            else:\n",
    "                self.Direction = self.Direction + 1 #Neutron is scattered up\n",
    "            return(self.x, self.y, self.E)\n",
    "        \n",
    "        else: #If the neutron is not being scattered # Checking the direction of scattering \n",
    "            if self.Direction%4 == 0:\n",
    "                self.x = self.x + 1 # neutron is facing positive x direction and it moves 1 step forward\n",
    "            elif self.Direction%4 == 2:\n",
    "                self.x = self.x - 1 # # neutron is facing negative x direction and it moves 1 step forward (backwords in term of positive x)\n",
    "            elif self.Direction%4 == 1:\n",
    "                self.y = self.y + 1 # neutron is facing positive y direction and it moves 1 step forward\n",
    "            elif self.Direction%4 == 3:\n",
    "                self.y = self.y - 1 # neutron is facing negative y direction and it moves 1 step forward (backwords in term of positive y)\n",
    "            self.E = self.E - 1  # One ach scatter (up or down) the neutron loses one unit of energy.\n",
    "            return(self.x, self.y, self.E)\n",
    "\n"
   ]
  },
  {
   "cell_type": "markdown",
   "id": "cb14fdd6-63ae-4040-8092-f5c738c966a6",
   "metadata": {},
   "source": [
    "# Do the test run"
   ]
  },
  {
   "cell_type": "code",
   "execution_count": 35,
   "id": "79633097-0098-4f48-86ac-6d4d074924bf",
   "metadata": {},
   "outputs": [],
   "source": [
    "# A beam of neutron bombards a reactor's wall. Considering motion of neutrons as random walk on (x,y) plane I'm looking for probabilities for neutrons (as a function of the shield size, D):\n",
    "# 1 to be back in reactor\n",
    "# 2 to be \"captured\" in the shield\n",
    "# 3 to get through the shield\n",
    "\n",
    "# Create two lists \n",
    "\n",
    "P_Get_through_shield_total = [] #Probability that neutron escapes\n",
    "D = [] # shield size\n",
    "\n",
    "# Generating 100 sizes of shields in a list\n",
    "for i in range(1000):\n",
    "    D.append(i)\n",
    "\n",
    "# Finding probabilities of 3 possibilities\n",
    "for i in range(1000):\n",
    "    P_Get_through_shield = 0\n",
    "    P_Captured = 0\n",
    "    P_Back_in_reactor = 0\n",
    "    for j in range(Number_Of_Neutrons):\n",
    "        n = Neutron(x1, 1, E_initial, 0) # creating neutron called n, it has position x1,1 (x,y), energy Ei and displacement 0.\n",
    "        # Now for generated neutrons I'll send them to the shield and see what happens to them:\n",
    "        while True: # This will always run unless this 3 posibilities\n",
    "            if n.x >= D[i]: # If neutrons x-position is greater then or equal to the size of the shield it gets through the shield.\n",
    "                P_Get_through_shield = P_Get_through_shield + 1/Number_Of_Neutrons #If this condition is reached the probability gets higher\n",
    "                break # Going to next neutron\n",
    "            elif n.x <= 0: #If neutrons x-position is less then or equal to 0 the neutron goes back to the reactor.\n",
    "                P_Back_in_reactor = P_Back_in_reactor + 1/Number_Of_Neutrons #If this condition is reached the probability gets higher\n",
    "                break # Going to next neutron\n",
    "            elif n.E <= 0: # If neutrons energy is smaller or equal to zero, the neutron is captured in the shield.\n",
    "                P_Captured = P_Captured + 1/Number_Of_Neutrons #If this condition is reached the probability gets higher\n",
    "                break # No other conditions to check\n",
    "            else: \n",
    "                n.scatter() # Running the code if nothing stopped the neutron. \n",
    "    P_Get_through_shield_total.append(P_Get_through_shield)"
   ]
  },
  {
   "cell_type": "code",
   "execution_count": 37,
   "id": "46c8c823-b1ef-49e2-9de1-b32e67d73c31",
   "metadata": {},
   "outputs": [
    {
     "name": "stdout",
     "output_type": "stream",
     "text": [
      "EXP: -0.055\n"
     ]
    }
   ],
   "source": [
    "expA = mcFit1(exponential, D, P_Get_through_shield_total, 0.001, 0.001, p0=[(-1)]) # Those are optimized values of  \n",
    "print(f'EXP: {expA:.3f}')"
   ]
  },
  {
   "cell_type": "code",
   "execution_count": 127,
   "id": "e7e6a1c7-0f47-4f87-97cb-7d92c33e586e",
   "metadata": {},
   "outputs": [
    {
     "name": "stdout",
     "output_type": "stream",
     "text": [
      "[1.0000000000000007, 1.0000000000000007, 1.0000000000000007, 1.0000000000000007, 0.8500000000000005, 0.6900000000000004, 0.7500000000000004, 0.5900000000000003, 0.5900000000000003, 0.4400000000000002, 0.5100000000000002, 0.4100000000000002, 0.38000000000000017, 0.3900000000000002, 0.37000000000000016, 0.36000000000000015, 0.2800000000000001, 0.26000000000000006, 0.3200000000000001, 0.2700000000000001, 0.3100000000000001, 0.3200000000000001, 0.2800000000000001, 0.2900000000000001, 0.21000000000000005, 0.2800000000000001, 0.23000000000000007, 0.22000000000000006, 0.25000000000000006, 0.25000000000000006, 0.26000000000000006, 0.18000000000000002, 0.24000000000000007, 0.21000000000000005, 0.17, 0.13999999999999999, 0.21000000000000005, 0.09, 0.18000000000000002, 0.16, 0.12999999999999998, 0.12999999999999998, 0.15, 0.17, 0.13999999999999999, 0.11999999999999998, 0.08, 0.10999999999999999, 0.11999999999999998, 0.09999999999999999, 0.10999999999999999, 0.07, 0.060000000000000005, 0.09999999999999999, 0.09999999999999999, 0.13999999999999999, 0.07, 0.09999999999999999, 0.060000000000000005, 0.060000000000000005, 0.060000000000000005, 0.03, 0.060000000000000005, 0.02, 0.08, 0.05, 0.04, 0.060000000000000005, 0.060000000000000005, 0.08, 0.05, 0.060000000000000005, 0.07, 0.03, 0.08, 0.02, 0, 0.03, 0.04, 0.02, 0.03, 0.02, 0.03, 0.03, 0.01, 0.01, 0.05, 0, 0.01, 0, 0.03, 0.01, 0.01, 0.01, 0, 0.01, 0.01, 0.01, 0.01, 0.01]\n"
     ]
    }
   ],
   "source": [
    "print(P_Get_through_shield_total)"
   ]
  },
  {
   "cell_type": "code",
   "execution_count": 39,
   "id": "cad06654-3b84-46e8-ab6f-1f1e91599048",
   "metadata": {},
   "outputs": [
    {
     "name": "stdout",
     "output_type": "stream",
     "text": [
      "The average probability is: 0.019979000000000014\n",
      "The average probability squared is: 0.009772025000000018\n",
      "The error in our alpha value is: 0.003063045348310374\n"
     ]
    }
   ],
   "source": [
    "\n",
    "avg_x = (1/len(P_Get_through_shield_total) * sum(P_Get_through_shield_total)) # average value of x (probability of getting through the shield)\n",
    "avg_x2 = (1/len(P_Get_through_shield_total) * sum(np.array(P_Get_through_shield_total)**2)) #average value of x^2\n",
    "sigma = np.sqrt((avg_x2 - avg_x**2) / (len(P_Get_through_shield_total)-1)) #simga = error value\n",
    "\n",
    "print('The average probability is:',avg_x)\n",
    "print('The average probability squared is:', avg_x2)\n",
    "print('The error in our alpha value is:', sigma)"
   ]
  },
  {
   "cell_type": "code",
   "execution_count": 41,
   "id": "0da4b9ea-0220-45ed-94a2-c15bf9bd946c",
   "metadata": {},
   "outputs": [
    {
     "data": {
      "image/png": "[encoded data removed]",
      "text/plain": [
       "<Figure size 1000x700 with 1 Axes>"
      ]
     },
     "metadata": {},
     "output_type": "display_data"
    }
   ],
   "source": [
    "fig1 = plt.figure(figsize=(10,7))\n",
    "ax1 = fig1.add_subplot(111)\n",
    "ax1.xaxis.set_tick_params(labelsize = 20)\n",
    "ax1.yaxis.set_tick_params(labelsize = 20)\n",
    "\n",
    "ax1.scatter(D,P_Get_through_shield_total)\n",
    "x_linspace = np.linspace(0,1000)\n",
    "\n",
    "ax1.plot(x_linspace,exponential(x_linspace,expA),'m',label='Fit:exp')\n",
    "plt.show()"
   ]
  },
  {
   "cell_type": "markdown",
   "id": "3abbaec5-e2f5-4dde-8dc8-731e00e09811",
   "metadata": {},
   "source": [
    "# Second Trial"
   ]
  },
  {
   "cell_type": "code",
   "execution_count": 17,
   "id": "d4d4192a-d1e8-46a4-991f-3fa099344c34",
   "metadata": {},
   "outputs": [],
   "source": [
    "# Generating neutrons that have normal distribution of energy\n",
    "E_Normal_Distribution = np.random.normal(750,75,Number_Of_Neutrons) "
   ]
  },
  {
   "cell_type": "code",
   "execution_count": 27,
   "id": "916f5597-753a-4ce5-a23b-16ab6b4d26d8",
   "metadata": {},
   "outputs": [],
   "source": [
    "# A beam of neutron bombards a reactor's wall. Considering motion of neutrons as random walk on (x,y) plane I'm looking for probabilities for neutrons (as a function of the shield size, D):\n",
    "# 1 to be back in reactor\n",
    "# 2 to be \"captured\" in the shield\n",
    "# 3 to get through the shield\n",
    "\n",
    "# Create two lists \n",
    "\n",
    "P_Get_through_shield_total = [] #Probability that neutron escapes\n",
    "D = [] # shield size\n",
    "\n",
    "# Generating 100 sizes of shields in a list\n",
    "for i in range(1000):\n",
    "    D.append(i)\n",
    "\n",
    "# Finding probabilities of 3 possibilities\n",
    "for i in range(1000):\n",
    "    P_Get_through_shield = 0\n",
    "    P_Captured = 0\n",
    "    P_Back_in_reactor = 0\n",
    "    for j in range(Number_Of_Neutrons):\n",
    "        n = Neutron(x1, 1, E_Normal_Distribution[i], 0) # creating neutron called n, it has position x1,1 (x,y), energy Ei and displacement 0.\n",
    "        # Now for generated neutrons I'll send them to the shield and see what happens to them:\n",
    "        while True: # This will always run unless this 3 posibilities\n",
    "            if n.x >= D[i]: # If neutrons x-position is greater then or equal to the size of the shield it gets through the shield.\n",
    "                P_Get_through_shield = P_Get_through_shield + 1/Number_Of_Neutrons #If this condition is reached the probability gets higher\n",
    "                break # Going to next neutron\n",
    "            elif n.x <= 0: #If neutrons x-position is less then or equal to 0 the neutron goes back to the reactor.\n",
    "                P_Back_in_reactor = P_Back_in_reactor + 1/Number_Of_Neutrons #If this condition is reached the probability gets higher\n",
    "                break # Going to next neutron\n",
    "            elif n.E <= 0: # If neutrons energy is smaller or equal to zero, the neutron is captured in the shield.\n",
    "                P_Captured = P_Captured + 1/Number_Of_Neutrons #If this condition is reached the probability gets higher\n",
    "                break # No other conditions to check\n",
    "            else: \n",
    "                n.scatter() # Running the code if nothing stopped the neutron. \n",
    "    P_Get_through_shield_total.append(P_Get_through_shield)"
   ]
  },
  {
   "cell_type": "code",
   "execution_count": 29,
   "id": "f6793199-9b5b-4438-b3a8-e71b1a425c1b",
   "metadata": {},
   "outputs": [
    {
     "name": "stdout",
     "output_type": "stream",
     "text": [
      "EXP: -0.060\n"
     ]
    }
   ],
   "source": [
    "expA = mcFit1(exponential, D, P_Get_through_shield_total, 0.001, 0.001, p0=[(-1)]) # Those are optimized values of  \n",
    "print(f'EXP: {expA:.3f}')"
   ]
  },
  {
   "cell_type": "code",
   "execution_count": 31,
   "id": "5fb43033-6824-45d9-b994-663f796b69c2",
   "metadata": {},
   "outputs": [
    {
     "name": "stdout",
     "output_type": "stream",
     "text": [
      "The average probability is: 0.017450000000000014\n",
      "The average probability squared is: 0.009320738000000016\n",
      "The error in our alpha value is: 0.003004207176737446\n"
     ]
    }
   ],
   "source": [
    "avg_x = (1/len(P_Get_through_shield_total) * sum(P_Get_through_shield_total))\n",
    "avg_x2 = (1/len(P_Get_through_shield_total) * sum(np.array(P_Get_through_shield_total)**2))\n",
    "sigma = np.sqrt((avg_x2 - avg_x**2) / (len(P_Get_through_shield_total)-1))\n",
    "\n",
    "print('The average probability is:',avg_x)\n",
    "print('The average probability squared is:', avg_x2)\n",
    "print('The error in our alpha value is:', sigma)"
   ]
  },
  {
   "cell_type": "code",
   "execution_count": 33,
   "id": "1a89dd03-d780-4d88-a645-a2d94547f535",
   "metadata": {},
   "outputs": [
    {
     "data": {
      "image/png": "[encoded data removed]",
      "text/plain": [
       "<Figure size 1000x700 with 1 Axes>"
      ]
     },
     "metadata": {},
     "output_type": "display_data"
    }
   ],
   "source": [
    "fig1 = plt.figure(figsize=(10,7))\n",
    "ax1 = fig1.add_subplot(111)\n",
    "ax1.xaxis.set_tick_params(labelsize = 20)\n",
    "ax1.yaxis.set_tick_params(labelsize = 20)\n",
    "\n",
    "ax1.scatter(D,P_Get_through_shield_total)\n",
    "x_linspace = np.linspace(0,1000)\n",
    "\n",
    "ax1.plot(x_linspace,exponential(x_linspace,expA),'c',label='Fit:exp')\n",
    "plt.show()"
   ]
  },
  {
   "cell_type": "code",
   "execution_count": null,
   "id": "68875673-4b15-48ff-903b-88a44d5e9f45",
   "metadata": {},
   "outputs": [],
   "source": []
  }
 ],
 "metadata": {
  "kernelspec": {
   "display_name": "Python 3 (ipykernel)",
   "language": "python",
   "name": "python3"
  },
  "language_info": {
   "codemirror_mode": {
    "name": "ipython",
    "version": 3
   },
   "file_extension": ".py",
   "mimetype": "text/x-python",
   "name": "python",
   "nbconvert_exporter": "python",
   "pygments_lexer": "ipython3",
   "version": "3.12.4"
  }
 },
 "nbformat": 4,
 "nbformat_minor": 5
}
